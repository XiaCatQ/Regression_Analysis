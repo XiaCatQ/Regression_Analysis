{
 "cells": [
  {
   "cell_type": "markdown",
   "id": "d99d3175",
   "metadata": {},
   "source": [
    "# EDA"
   ]
  },
  {
   "cell_type": "markdown",
   "id": "38975e71",
   "metadata": {},
   "source": [
    "### Import Packages"
   ]
  },
  {
   "cell_type": "code",
   "execution_count": 13,
   "id": "c4d19c89",
   "metadata": {},
   "outputs": [
    {
     "name": "stderr",
     "output_type": "stream",
     "text": [
      "Warning message:\n",
      "\"package 'psych' is in use and will not be installed\"\n"
     ]
    }
   ],
   "source": [
    "library(tidyverse)\n",
    "# install.packages(\"psych\")\n",
    "library(psych)"
   ]
  },
  {
   "cell_type": "markdown",
   "id": "0b31a246",
   "metadata": {},
   "source": [
    "### Import Data"
   ]
  },
  {
   "cell_type": "code",
   "execution_count": 4,
   "id": "77a856ec",
   "metadata": {},
   "outputs": [],
   "source": [
    "data <- read.csv(\"data/heart_2020_cleaned.csv\")"
   ]
  },
  {
   "cell_type": "code",
   "execution_count": 36,
   "id": "0df59ee6",
   "metadata": {},
   "outputs": [
    {
     "data": {
      "text/html": [
       "<table class=\"dataframe\">\n",
       "<caption>A data.frame: 6 × 18</caption>\n",
       "<thead>\n",
       "\t<tr><th></th><th scope=col>HeartDisease</th><th scope=col>BMI</th><th scope=col>Smoking</th><th scope=col>AlcoholDrinking</th><th scope=col>Stroke</th><th scope=col>PhysicalHealth</th><th scope=col>MentalHealth</th><th scope=col>DiffWalking</th><th scope=col>Sex</th><th scope=col>AgeCategory</th><th scope=col>Race</th><th scope=col>Diabetic</th><th scope=col>PhysicalActivity</th><th scope=col>GenHealth</th><th scope=col>SleepTime</th><th scope=col>Asthma</th><th scope=col>KidneyDisease</th><th scope=col>SkinCancer</th></tr>\n",
       "\t<tr><th></th><th scope=col>&lt;chr&gt;</th><th scope=col>&lt;dbl&gt;</th><th scope=col>&lt;chr&gt;</th><th scope=col>&lt;chr&gt;</th><th scope=col>&lt;chr&gt;</th><th scope=col>&lt;dbl&gt;</th><th scope=col>&lt;dbl&gt;</th><th scope=col>&lt;chr&gt;</th><th scope=col>&lt;chr&gt;</th><th scope=col>&lt;chr&gt;</th><th scope=col>&lt;chr&gt;</th><th scope=col>&lt;chr&gt;</th><th scope=col>&lt;chr&gt;</th><th scope=col>&lt;chr&gt;</th><th scope=col>&lt;dbl&gt;</th><th scope=col>&lt;chr&gt;</th><th scope=col>&lt;chr&gt;</th><th scope=col>&lt;chr&gt;</th></tr>\n",
       "</thead>\n",
       "<tbody>\n",
       "\t<tr><th scope=row>1</th><td>No </td><td>16.60</td><td>Yes</td><td>No</td><td>No </td><td> 3</td><td>30</td><td>No </td><td>Female</td><td>55-59      </td><td>White</td><td>Yes</td><td>Yes</td><td>Very good</td><td> 5</td><td>Yes</td><td>No</td><td>Yes</td></tr>\n",
       "\t<tr><th scope=row>2</th><td>No </td><td>20.34</td><td>No </td><td>No</td><td>Yes</td><td> 0</td><td> 0</td><td>No </td><td>Female</td><td>80 or older</td><td>White</td><td>No </td><td>Yes</td><td>Very good</td><td> 7</td><td>No </td><td>No</td><td>No </td></tr>\n",
       "\t<tr><th scope=row>3</th><td>No </td><td>26.58</td><td>Yes</td><td>No</td><td>No </td><td>20</td><td>30</td><td>No </td><td>Male  </td><td>65-69      </td><td>White</td><td>Yes</td><td>Yes</td><td>Fair     </td><td> 8</td><td>Yes</td><td>No</td><td>No </td></tr>\n",
       "\t<tr><th scope=row>4</th><td>No </td><td>24.21</td><td>No </td><td>No</td><td>No </td><td> 0</td><td> 0</td><td>No </td><td>Female</td><td>75-79      </td><td>White</td><td>No </td><td>No </td><td>Good     </td><td> 6</td><td>No </td><td>No</td><td>Yes</td></tr>\n",
       "\t<tr><th scope=row>5</th><td>No </td><td>23.71</td><td>No </td><td>No</td><td>No </td><td>28</td><td> 0</td><td>Yes</td><td>Female</td><td>40-44      </td><td>White</td><td>No </td><td>Yes</td><td>Very good</td><td> 8</td><td>No </td><td>No</td><td>No </td></tr>\n",
       "\t<tr><th scope=row>6</th><td>Yes</td><td>28.87</td><td>Yes</td><td>No</td><td>No </td><td> 6</td><td> 0</td><td>Yes</td><td>Female</td><td>75-79      </td><td>Black</td><td>No </td><td>No </td><td>Fair     </td><td>12</td><td>No </td><td>No</td><td>No </td></tr>\n",
       "</tbody>\n",
       "</table>\n"
      ],
      "text/latex": [
       "A data.frame: 6 × 18\n",
       "\\begin{tabular}{r|llllllllllllllllll}\n",
       "  & HeartDisease & BMI & Smoking & AlcoholDrinking & Stroke & PhysicalHealth & MentalHealth & DiffWalking & Sex & AgeCategory & Race & Diabetic & PhysicalActivity & GenHealth & SleepTime & Asthma & KidneyDisease & SkinCancer\\\\\n",
       "  & <chr> & <dbl> & <chr> & <chr> & <chr> & <dbl> & <dbl> & <chr> & <chr> & <chr> & <chr> & <chr> & <chr> & <chr> & <dbl> & <chr> & <chr> & <chr>\\\\\n",
       "\\hline\n",
       "\t1 & No  & 16.60 & Yes & No & No  &  3 & 30 & No  & Female & 55-59       & White & Yes & Yes & Very good &  5 & Yes & No & Yes\\\\\n",
       "\t2 & No  & 20.34 & No  & No & Yes &  0 &  0 & No  & Female & 80 or older & White & No  & Yes & Very good &  7 & No  & No & No \\\\\n",
       "\t3 & No  & 26.58 & Yes & No & No  & 20 & 30 & No  & Male   & 65-69       & White & Yes & Yes & Fair      &  8 & Yes & No & No \\\\\n",
       "\t4 & No  & 24.21 & No  & No & No  &  0 &  0 & No  & Female & 75-79       & White & No  & No  & Good      &  6 & No  & No & Yes\\\\\n",
       "\t5 & No  & 23.71 & No  & No & No  & 28 &  0 & Yes & Female & 40-44       & White & No  & Yes & Very good &  8 & No  & No & No \\\\\n",
       "\t6 & Yes & 28.87 & Yes & No & No  &  6 &  0 & Yes & Female & 75-79       & Black & No  & No  & Fair      & 12 & No  & No & No \\\\\n",
       "\\end{tabular}\n"
      ],
      "text/markdown": [
       "\n",
       "A data.frame: 6 × 18\n",
       "\n",
       "| <!--/--> | HeartDisease &lt;chr&gt; | BMI &lt;dbl&gt; | Smoking &lt;chr&gt; | AlcoholDrinking &lt;chr&gt; | Stroke &lt;chr&gt; | PhysicalHealth &lt;dbl&gt; | MentalHealth &lt;dbl&gt; | DiffWalking &lt;chr&gt; | Sex &lt;chr&gt; | AgeCategory &lt;chr&gt; | Race &lt;chr&gt; | Diabetic &lt;chr&gt; | PhysicalActivity &lt;chr&gt; | GenHealth &lt;chr&gt; | SleepTime &lt;dbl&gt; | Asthma &lt;chr&gt; | KidneyDisease &lt;chr&gt; | SkinCancer &lt;chr&gt; |\n",
       "|---|---|---|---|---|---|---|---|---|---|---|---|---|---|---|---|---|---|---|\n",
       "| 1 | No  | 16.60 | Yes | No | No  |  3 | 30 | No  | Female | 55-59       | White | Yes | Yes | Very good |  5 | Yes | No | Yes |\n",
       "| 2 | No  | 20.34 | No  | No | Yes |  0 |  0 | No  | Female | 80 or older | White | No  | Yes | Very good |  7 | No  | No | No  |\n",
       "| 3 | No  | 26.58 | Yes | No | No  | 20 | 30 | No  | Male   | 65-69       | White | Yes | Yes | Fair      |  8 | Yes | No | No  |\n",
       "| 4 | No  | 24.21 | No  | No | No  |  0 |  0 | No  | Female | 75-79       | White | No  | No  | Good      |  6 | No  | No | Yes |\n",
       "| 5 | No  | 23.71 | No  | No | No  | 28 |  0 | Yes | Female | 40-44       | White | No  | Yes | Very good |  8 | No  | No | No  |\n",
       "| 6 | Yes | 28.87 | Yes | No | No  |  6 |  0 | Yes | Female | 75-79       | Black | No  | No  | Fair      | 12 | No  | No | No  |\n",
       "\n"
      ],
      "text/plain": [
       "  HeartDisease BMI   Smoking AlcoholDrinking Stroke PhysicalHealth MentalHealth\n",
       "1 No           16.60 Yes     No              No      3             30          \n",
       "2 No           20.34 No      No              Yes     0              0          \n",
       "3 No           26.58 Yes     No              No     20             30          \n",
       "4 No           24.21 No      No              No      0              0          \n",
       "5 No           23.71 No      No              No     28              0          \n",
       "6 Yes          28.87 Yes     No              No      6              0          \n",
       "  DiffWalking Sex    AgeCategory Race  Diabetic PhysicalActivity GenHealth\n",
       "1 No          Female 55-59       White Yes      Yes              Very good\n",
       "2 No          Female 80 or older White No       Yes              Very good\n",
       "3 No          Male   65-69       White Yes      Yes              Fair     \n",
       "4 No          Female 75-79       White No       No               Good     \n",
       "5 Yes         Female 40-44       White No       Yes              Very good\n",
       "6 Yes         Female 75-79       Black No       No               Fair     \n",
       "  SleepTime Asthma KidneyDisease SkinCancer\n",
       "1  5        Yes    No            Yes       \n",
       "2  7        No     No            No        \n",
       "3  8        Yes    No            No        \n",
       "4  6        No     No            Yes       \n",
       "5  8        No     No            No        \n",
       "6 12        No     No            No        "
      ]
     },
     "metadata": {},
     "output_type": "display_data"
    }
   ],
   "source": [
    "head(data)"
   ]
  },
  {
   "cell_type": "markdown",
   "id": "f0d8388b",
   "metadata": {},
   "source": [
    "### Preview data"
   ]
  },
  {
   "cell_type": "code",
   "execution_count": 21,
   "id": "4e90ec3d",
   "metadata": {},
   "outputs": [
    {
     "name": "stdout",
     "output_type": "stream",
     "text": [
      "'data.frame':\t319795 obs. of  18 variables:\n",
      " $ HeartDisease    : chr  \"No\" \"No\" \"No\" \"No\" ...\n",
      " $ BMI             : num  16.6 20.3 26.6 24.2 23.7 ...\n",
      " $ Smoking         : chr  \"Yes\" \"No\" \"Yes\" \"No\" ...\n",
      " $ AlcoholDrinking : chr  \"No\" \"No\" \"No\" \"No\" ...\n",
      " $ Stroke          : chr  \"No\" \"Yes\" \"No\" \"No\" ...\n",
      " $ PhysicalHealth  : num  3 0 20 0 28 6 15 5 0 0 ...\n",
      " $ MentalHealth    : num  30 0 30 0 0 0 0 0 0 0 ...\n",
      " $ DiffWalking     : chr  \"No\" \"No\" \"No\" \"No\" ...\n",
      " $ Sex             : chr  \"Female\" \"Female\" \"Male\" \"Female\" ...\n",
      " $ AgeCategory     : chr  \"55-59\" \"80 or older\" \"65-69\" \"75-79\" ...\n",
      " $ Race            : chr  \"White\" \"White\" \"White\" \"White\" ...\n",
      " $ Diabetic        : chr  \"Yes\" \"No\" \"Yes\" \"No\" ...\n",
      " $ PhysicalActivity: chr  \"Yes\" \"Yes\" \"Yes\" \"No\" ...\n",
      " $ GenHealth       : chr  \"Very good\" \"Very good\" \"Fair\" \"Good\" ...\n",
      " $ SleepTime       : num  5 7 8 6 8 12 4 9 5 10 ...\n",
      " $ Asthma          : chr  \"Yes\" \"No\" \"Yes\" \"No\" ...\n",
      " $ KidneyDisease   : chr  \"No\" \"No\" \"No\" \"No\" ...\n",
      " $ SkinCancer      : chr  \"Yes\" \"No\" \"No\" \"Yes\" ...\n"
     ]
    }
   ],
   "source": [
    "str(data)"
   ]
  },
  {
   "cell_type": "markdown",
   "id": "bb881618",
   "metadata": {},
   "source": [
    "### Check total number of entries and column types"
   ]
  },
  {
   "cell_type": "code",
   "execution_count": 18,
   "id": "3fdf1424",
   "metadata": {},
   "outputs": [
    {
     "data": {
      "text/html": [
       "18"
      ],
      "text/latex": [
       "18"
      ],
      "text/markdown": [
       "18"
      ],
      "text/plain": [
       "[1] 18"
      ]
     },
     "metadata": {},
     "output_type": "display_data"
    },
    {
     "data": {
      "text/html": [
       "319795"
      ],
      "text/latex": [
       "319795"
      ],
      "text/markdown": [
       "319795"
      ],
      "text/plain": [
       "[1] 319795"
      ]
     },
     "metadata": {},
     "output_type": "display_data"
    }
   ],
   "source": [
    "ncol(data) # vaariables\n",
    "nrow(data) # observations"
   ]
  },
  {
   "cell_type": "markdown",
   "id": "a7e6bfbd",
   "metadata": {},
   "source": [
    "### Check any null values"
   ]
  },
  {
   "cell_type": "code",
   "execution_count": 10,
   "id": "a800f927",
   "metadata": {},
   "outputs": [
    {
     "data": {
      "text/html": [
       "FALSE"
      ],
      "text/latex": [
       "FALSE"
      ],
      "text/markdown": [
       "FALSE"
      ],
      "text/plain": [
       "[1] FALSE"
      ]
     },
     "metadata": {},
     "output_type": "display_data"
    }
   ],
   "source": [
    "is.null(data)"
   ]
  },
  {
   "cell_type": "markdown",
   "id": "1a1b8529",
   "metadata": {},
   "source": [
    "### Check duplicate entries"
   ]
  },
  {
   "cell_type": "code",
   "execution_count": 12,
   "id": "c416deb8",
   "metadata": {},
   "outputs": [
    {
     "data": {
      "text/html": [
       "18078"
      ],
      "text/latex": [
       "18078"
      ],
      "text/markdown": [
       "18078"
      ],
      "text/plain": [
       "[1] 18078"
      ]
     },
     "metadata": {},
     "output_type": "display_data"
    }
   ],
   "source": [
    "sum(duplicated(data))"
   ]
  },
  {
   "cell_type": "code",
   "execution_count": 23,
   "id": "ea170f25",
   "metadata": {},
   "outputs": [
    {
     "name": "stdout",
     "output_type": "stream",
     "text": [
      "'data.frame':\t301717 obs. of  18 variables:\n",
      " $ HeartDisease    : chr  \"No\" \"No\" \"No\" \"No\" ...\n",
      " $ BMI             : num  16.6 20.3 26.6 24.2 23.7 ...\n",
      " $ Smoking         : chr  \"Yes\" \"No\" \"Yes\" \"No\" ...\n",
      " $ AlcoholDrinking : chr  \"No\" \"No\" \"No\" \"No\" ...\n",
      " $ Stroke          : chr  \"No\" \"Yes\" \"No\" \"No\" ...\n",
      " $ PhysicalHealth  : num  3 0 20 0 28 6 15 5 0 0 ...\n",
      " $ MentalHealth    : num  30 0 30 0 0 0 0 0 0 0 ...\n",
      " $ DiffWalking     : chr  \"No\" \"No\" \"No\" \"No\" ...\n",
      " $ Sex             : chr  \"Female\" \"Female\" \"Male\" \"Female\" ...\n",
      " $ AgeCategory     : chr  \"55-59\" \"80 or older\" \"65-69\" \"75-79\" ...\n",
      " $ Race            : chr  \"White\" \"White\" \"White\" \"White\" ...\n",
      " $ Diabetic        : chr  \"Yes\" \"No\" \"Yes\" \"No\" ...\n",
      " $ PhysicalActivity: chr  \"Yes\" \"Yes\" \"Yes\" \"No\" ...\n",
      " $ GenHealth       : chr  \"Very good\" \"Very good\" \"Fair\" \"Good\" ...\n",
      " $ SleepTime       : num  5 7 8 6 8 12 4 9 5 10 ...\n",
      " $ Asthma          : chr  \"Yes\" \"No\" \"Yes\" \"No\" ...\n",
      " $ KidneyDisease   : chr  \"No\" \"No\" \"No\" \"No\" ...\n",
      " $ SkinCancer      : chr  \"Yes\" \"No\" \"No\" \"Yes\" ...\n"
     ]
    }
   ],
   "source": [
    "# remove duplicates\n",
    "data <- data[!duplicated(data), ]\n",
    "str(data)"
   ]
  },
  {
   "cell_type": "markdown",
   "id": "f5c0e5c3",
   "metadata": {},
   "source": [
    "### Univariate visualization —\n",
    "provides summary statistics for each field in the raw data set"
   ]
  },
  {
   "cell_type": "markdown",
   "id": "953ab634",
   "metadata": {},
   "source": [
    "#### 1. Summary Statistics"
   ]
  },
  {
   "cell_type": "code",
   "execution_count": 24,
   "id": "be7c9364",
   "metadata": {},
   "outputs": [
    {
     "data": {
      "text/html": [
       "<table class=\"dataframe\">\n",
       "<caption>A psych: 18 × 13</caption>\n",
       "<thead>\n",
       "\t<tr><th></th><th scope=col>vars</th><th scope=col>n</th><th scope=col>mean</th><th scope=col>sd</th><th scope=col>median</th><th scope=col>trimmed</th><th scope=col>mad</th><th scope=col>min</th><th scope=col>max</th><th scope=col>range</th><th scope=col>skew</th><th scope=col>kurtosis</th><th scope=col>se</th></tr>\n",
       "\t<tr><th></th><th scope=col>&lt;int&gt;</th><th scope=col>&lt;dbl&gt;</th><th scope=col>&lt;dbl&gt;</th><th scope=col>&lt;dbl&gt;</th><th scope=col>&lt;dbl&gt;</th><th scope=col>&lt;dbl&gt;</th><th scope=col>&lt;dbl&gt;</th><th scope=col>&lt;dbl&gt;</th><th scope=col>&lt;dbl&gt;</th><th scope=col>&lt;dbl&gt;</th><th scope=col>&lt;dbl&gt;</th><th scope=col>&lt;dbl&gt;</th><th scope=col>&lt;dbl&gt;</th></tr>\n",
       "</thead>\n",
       "<tbody>\n",
       "\t<tr><th scope=row>HeartDisease*</th><td> 1</td><td>301717</td><td> 1.090353</td><td>0.2866871</td><td> 1.00</td><td> 1.000000</td><td>0.000000</td><td> 1.00</td><td> 2.00</td><td> 1.00</td><td> 2.8577897</td><td> 6.1669824</td><td>0.0005219252</td></tr>\n",
       "\t<tr><th scope=row>BMI</th><td> 2</td><td>301717</td><td>28.441970</td><td>6.4681343</td><td>27.41</td><td>27.822767</td><td>5.574576</td><td>12.02</td><td>94.85</td><td>82.83</td><td> 1.2977241</td><td> 3.6905488</td><td>0.0117754941</td></tr>\n",
       "\t<tr><th scope=row>Smoking*</th><td> 3</td><td>301717</td><td> 1.422267</td><td>0.4939214</td><td> 1.00</td><td> 1.402834</td><td>0.000000</td><td> 1.00</td><td> 2.00</td><td> 1.00</td><td> 0.3147593</td><td>-1.9009329</td><td>0.0008992034</td></tr>\n",
       "\t<tr><th scope=row>AlcoholDrinking*</th><td> 4</td><td>301717</td><td> 1.071527</td><td>0.2577040</td><td> 1.00</td><td> 1.000000</td><td>0.000000</td><td> 1.00</td><td> 2.00</td><td> 1.00</td><td> 3.3252977</td><td> 9.0576351</td><td>0.0004691603</td></tr>\n",
       "\t<tr><th scope=row>Stroke*</th><td> 5</td><td>301717</td><td> 1.039984</td><td>0.1959231</td><td> 1.00</td><td> 1.000000</td><td>0.000000</td><td> 1.00</td><td> 2.00</td><td> 1.00</td><td> 4.6958630</td><td>20.0511953</td><td>0.0003566857</td></tr>\n",
       "\t<tr><th scope=row>PhysicalHealth</th><td> 6</td><td>301717</td><td> 3.572298</td><td>8.1406565</td><td> 0.00</td><td> 1.192249</td><td>0.000000</td><td> 0.00</td><td>30.00</td><td>30.00</td><td> 2.5009749</td><td> 4.9710890</td><td>0.0148203868</td></tr>\n",
       "\t<tr><th scope=row>MentalHealth</th><td> 7</td><td>301717</td><td> 4.121475</td><td>8.1282881</td><td> 0.00</td><td> 1.929218</td><td>0.000000</td><td> 0.00</td><td>30.00</td><td>30.00</td><td> 2.2374477</td><td> 3.9384071</td><td>0.0147978697</td></tr>\n",
       "\t<tr><th scope=row>DiffWalking*</th><td> 8</td><td>301717</td><td> 1.147009</td><td>0.3541151</td><td> 1.00</td><td> 1.058763</td><td>0.000000</td><td> 1.00</td><td> 2.00</td><td> 1.00</td><td> 1.9936468</td><td> 1.9746340</td><td>0.0006446805</td></tr>\n",
       "\t<tr><th scope=row>Sex*</th><td> 9</td><td>301717</td><td> 1.470792</td><td>0.4991470</td><td> 1.00</td><td> 1.463490</td><td>0.000000</td><td> 1.00</td><td> 2.00</td><td> 1.00</td><td> 0.1170306</td><td>-1.9863104</td><td>0.0009087168</td></tr>\n",
       "\t<tr><th scope=row>AgeCategory*</th><td>10</td><td>301717</td><td> 7.509408</td><td>3.5845103</td><td> 8.00</td><td> 7.622861</td><td>4.447800</td><td> 1.00</td><td>13.00</td><td>12.00</td><td>-0.2546913</td><td>-1.0409804</td><td>0.0065257426</td></tr>\n",
       "\t<tr><th scope=row>Race*</th><td>11</td><td>301717</td><td> 5.365409</td><td>1.2358168</td><td> 6.00</td><td> 5.657889</td><td>0.000000</td><td> 1.00</td><td> 6.00</td><td> 5.00</td><td>-1.8435356</td><td> 2.3375551</td><td>0.0022498533</td></tr>\n",
       "\t<tr><th scope=row>Diabetic*</th><td>12</td><td>301717</td><td> 1.316926</td><td>0.7323717</td><td> 1.00</td><td> 1.135573</td><td>0.000000</td><td> 1.00</td><td> 4.00</td><td> 3.00</td><td> 1.9999047</td><td> 2.3245776</td><td>0.0013333116</td></tr>\n",
       "\t<tr><th scope=row>PhysicalActivity*</th><td>13</td><td>301717</td><td> 1.763669</td><td>0.4248283</td><td> 2.00</td><td> 1.829585</td><td>0.000000</td><td> 1.00</td><td> 2.00</td><td> 1.00</td><td>-1.2412938</td><td>-0.4591912</td><td>0.0007734168</td></tr>\n",
       "\t<tr><th scope=row>GenHealth*</th><td>14</td><td>301717</td><td> 3.221217</td><td>1.5115019</td><td> 3.00</td><td> 3.276520</td><td>2.965200</td><td> 1.00</td><td> 5.00</td><td> 4.00</td><td>-0.1186585</td><td>-1.3587154</td><td>0.0027517490</td></tr>\n",
       "\t<tr><th scope=row>SleepTime</th><td>15</td><td>301717</td><td> 7.084559</td><td>1.4671219</td><td> 7.00</td><td> 7.093788</td><td>1.482600</td><td> 1.00</td><td>24.00</td><td>23.00</td><td> 0.6972167</td><td> 7.5719910</td><td>0.0026709535</td></tr>\n",
       "\t<tr><th scope=row>Asthma*</th><td>16</td><td>301717</td><td> 1.141361</td><td>0.3483941</td><td> 1.00</td><td> 1.051704</td><td>0.000000</td><td> 1.00</td><td> 2.00</td><td> 1.00</td><td> 2.0588058</td><td> 2.2386887</td><td>0.0006342652</td></tr>\n",
       "\t<tr><th scope=row>KidneyDisease*</th><td>17</td><td>301717</td><td> 1.039030</td><td>0.1936666</td><td> 1.00</td><td> 1.000000</td><td>0.000000</td><td> 1.00</td><td> 2.00</td><td> 1.00</td><td> 4.7604347</td><td>20.6618068</td><td>0.0003525776</td></tr>\n",
       "\t<tr><th scope=row>SkinCancer*</th><td>18</td><td>301717</td><td> 1.097084</td><td>0.2960731</td><td> 1.00</td><td> 1.000000</td><td>0.000000</td><td> 1.00</td><td> 2.00</td><td> 1.00</td><td> 2.7217220</td><td> 5.4077883</td><td>0.0005390128</td></tr>\n",
       "</tbody>\n",
       "</table>\n"
      ],
      "text/latex": [
       "A psych: 18 × 13\n",
       "\\begin{tabular}{r|lllllllllllll}\n",
       "  & vars & n & mean & sd & median & trimmed & mad & min & max & range & skew & kurtosis & se\\\\\n",
       "  & <int> & <dbl> & <dbl> & <dbl> & <dbl> & <dbl> & <dbl> & <dbl> & <dbl> & <dbl> & <dbl> & <dbl> & <dbl>\\\\\n",
       "\\hline\n",
       "\tHeartDisease* &  1 & 301717 &  1.090353 & 0.2866871 &  1.00 &  1.000000 & 0.000000 &  1.00 &  2.00 &  1.00 &  2.8577897 &  6.1669824 & 0.0005219252\\\\\n",
       "\tBMI &  2 & 301717 & 28.441970 & 6.4681343 & 27.41 & 27.822767 & 5.574576 & 12.02 & 94.85 & 82.83 &  1.2977241 &  3.6905488 & 0.0117754941\\\\\n",
       "\tSmoking* &  3 & 301717 &  1.422267 & 0.4939214 &  1.00 &  1.402834 & 0.000000 &  1.00 &  2.00 &  1.00 &  0.3147593 & -1.9009329 & 0.0008992034\\\\\n",
       "\tAlcoholDrinking* &  4 & 301717 &  1.071527 & 0.2577040 &  1.00 &  1.000000 & 0.000000 &  1.00 &  2.00 &  1.00 &  3.3252977 &  9.0576351 & 0.0004691603\\\\\n",
       "\tStroke* &  5 & 301717 &  1.039984 & 0.1959231 &  1.00 &  1.000000 & 0.000000 &  1.00 &  2.00 &  1.00 &  4.6958630 & 20.0511953 & 0.0003566857\\\\\n",
       "\tPhysicalHealth &  6 & 301717 &  3.572298 & 8.1406565 &  0.00 &  1.192249 & 0.000000 &  0.00 & 30.00 & 30.00 &  2.5009749 &  4.9710890 & 0.0148203868\\\\\n",
       "\tMentalHealth &  7 & 301717 &  4.121475 & 8.1282881 &  0.00 &  1.929218 & 0.000000 &  0.00 & 30.00 & 30.00 &  2.2374477 &  3.9384071 & 0.0147978697\\\\\n",
       "\tDiffWalking* &  8 & 301717 &  1.147009 & 0.3541151 &  1.00 &  1.058763 & 0.000000 &  1.00 &  2.00 &  1.00 &  1.9936468 &  1.9746340 & 0.0006446805\\\\\n",
       "\tSex* &  9 & 301717 &  1.470792 & 0.4991470 &  1.00 &  1.463490 & 0.000000 &  1.00 &  2.00 &  1.00 &  0.1170306 & -1.9863104 & 0.0009087168\\\\\n",
       "\tAgeCategory* & 10 & 301717 &  7.509408 & 3.5845103 &  8.00 &  7.622861 & 4.447800 &  1.00 & 13.00 & 12.00 & -0.2546913 & -1.0409804 & 0.0065257426\\\\\n",
       "\tRace* & 11 & 301717 &  5.365409 & 1.2358168 &  6.00 &  5.657889 & 0.000000 &  1.00 &  6.00 &  5.00 & -1.8435356 &  2.3375551 & 0.0022498533\\\\\n",
       "\tDiabetic* & 12 & 301717 &  1.316926 & 0.7323717 &  1.00 &  1.135573 & 0.000000 &  1.00 &  4.00 &  3.00 &  1.9999047 &  2.3245776 & 0.0013333116\\\\\n",
       "\tPhysicalActivity* & 13 & 301717 &  1.763669 & 0.4248283 &  2.00 &  1.829585 & 0.000000 &  1.00 &  2.00 &  1.00 & -1.2412938 & -0.4591912 & 0.0007734168\\\\\n",
       "\tGenHealth* & 14 & 301717 &  3.221217 & 1.5115019 &  3.00 &  3.276520 & 2.965200 &  1.00 &  5.00 &  4.00 & -0.1186585 & -1.3587154 & 0.0027517490\\\\\n",
       "\tSleepTime & 15 & 301717 &  7.084559 & 1.4671219 &  7.00 &  7.093788 & 1.482600 &  1.00 & 24.00 & 23.00 &  0.6972167 &  7.5719910 & 0.0026709535\\\\\n",
       "\tAsthma* & 16 & 301717 &  1.141361 & 0.3483941 &  1.00 &  1.051704 & 0.000000 &  1.00 &  2.00 &  1.00 &  2.0588058 &  2.2386887 & 0.0006342652\\\\\n",
       "\tKidneyDisease* & 17 & 301717 &  1.039030 & 0.1936666 &  1.00 &  1.000000 & 0.000000 &  1.00 &  2.00 &  1.00 &  4.7604347 & 20.6618068 & 0.0003525776\\\\\n",
       "\tSkinCancer* & 18 & 301717 &  1.097084 & 0.2960731 &  1.00 &  1.000000 & 0.000000 &  1.00 &  2.00 &  1.00 &  2.7217220 &  5.4077883 & 0.0005390128\\\\\n",
       "\\end{tabular}\n"
      ],
      "text/markdown": [
       "\n",
       "A psych: 18 × 13\n",
       "\n",
       "| <!--/--> | vars &lt;int&gt; | n &lt;dbl&gt; | mean &lt;dbl&gt; | sd &lt;dbl&gt; | median &lt;dbl&gt; | trimmed &lt;dbl&gt; | mad &lt;dbl&gt; | min &lt;dbl&gt; | max &lt;dbl&gt; | range &lt;dbl&gt; | skew &lt;dbl&gt; | kurtosis &lt;dbl&gt; | se &lt;dbl&gt; |\n",
       "|---|---|---|---|---|---|---|---|---|---|---|---|---|---|\n",
       "| HeartDisease* |  1 | 301717 |  1.090353 | 0.2866871 |  1.00 |  1.000000 | 0.000000 |  1.00 |  2.00 |  1.00 |  2.8577897 |  6.1669824 | 0.0005219252 |\n",
       "| BMI |  2 | 301717 | 28.441970 | 6.4681343 | 27.41 | 27.822767 | 5.574576 | 12.02 | 94.85 | 82.83 |  1.2977241 |  3.6905488 | 0.0117754941 |\n",
       "| Smoking* |  3 | 301717 |  1.422267 | 0.4939214 |  1.00 |  1.402834 | 0.000000 |  1.00 |  2.00 |  1.00 |  0.3147593 | -1.9009329 | 0.0008992034 |\n",
       "| AlcoholDrinking* |  4 | 301717 |  1.071527 | 0.2577040 |  1.00 |  1.000000 | 0.000000 |  1.00 |  2.00 |  1.00 |  3.3252977 |  9.0576351 | 0.0004691603 |\n",
       "| Stroke* |  5 | 301717 |  1.039984 | 0.1959231 |  1.00 |  1.000000 | 0.000000 |  1.00 |  2.00 |  1.00 |  4.6958630 | 20.0511953 | 0.0003566857 |\n",
       "| PhysicalHealth |  6 | 301717 |  3.572298 | 8.1406565 |  0.00 |  1.192249 | 0.000000 |  0.00 | 30.00 | 30.00 |  2.5009749 |  4.9710890 | 0.0148203868 |\n",
       "| MentalHealth |  7 | 301717 |  4.121475 | 8.1282881 |  0.00 |  1.929218 | 0.000000 |  0.00 | 30.00 | 30.00 |  2.2374477 |  3.9384071 | 0.0147978697 |\n",
       "| DiffWalking* |  8 | 301717 |  1.147009 | 0.3541151 |  1.00 |  1.058763 | 0.000000 |  1.00 |  2.00 |  1.00 |  1.9936468 |  1.9746340 | 0.0006446805 |\n",
       "| Sex* |  9 | 301717 |  1.470792 | 0.4991470 |  1.00 |  1.463490 | 0.000000 |  1.00 |  2.00 |  1.00 |  0.1170306 | -1.9863104 | 0.0009087168 |\n",
       "| AgeCategory* | 10 | 301717 |  7.509408 | 3.5845103 |  8.00 |  7.622861 | 4.447800 |  1.00 | 13.00 | 12.00 | -0.2546913 | -1.0409804 | 0.0065257426 |\n",
       "| Race* | 11 | 301717 |  5.365409 | 1.2358168 |  6.00 |  5.657889 | 0.000000 |  1.00 |  6.00 |  5.00 | -1.8435356 |  2.3375551 | 0.0022498533 |\n",
       "| Diabetic* | 12 | 301717 |  1.316926 | 0.7323717 |  1.00 |  1.135573 | 0.000000 |  1.00 |  4.00 |  3.00 |  1.9999047 |  2.3245776 | 0.0013333116 |\n",
       "| PhysicalActivity* | 13 | 301717 |  1.763669 | 0.4248283 |  2.00 |  1.829585 | 0.000000 |  1.00 |  2.00 |  1.00 | -1.2412938 | -0.4591912 | 0.0007734168 |\n",
       "| GenHealth* | 14 | 301717 |  3.221217 | 1.5115019 |  3.00 |  3.276520 | 2.965200 |  1.00 |  5.00 |  4.00 | -0.1186585 | -1.3587154 | 0.0027517490 |\n",
       "| SleepTime | 15 | 301717 |  7.084559 | 1.4671219 |  7.00 |  7.093788 | 1.482600 |  1.00 | 24.00 | 23.00 |  0.6972167 |  7.5719910 | 0.0026709535 |\n",
       "| Asthma* | 16 | 301717 |  1.141361 | 0.3483941 |  1.00 |  1.051704 | 0.000000 |  1.00 |  2.00 |  1.00 |  2.0588058 |  2.2386887 | 0.0006342652 |\n",
       "| KidneyDisease* | 17 | 301717 |  1.039030 | 0.1936666 |  1.00 |  1.000000 | 0.000000 |  1.00 |  2.00 |  1.00 |  4.7604347 | 20.6618068 | 0.0003525776 |\n",
       "| SkinCancer* | 18 | 301717 |  1.097084 | 0.2960731 |  1.00 |  1.000000 | 0.000000 |  1.00 |  2.00 |  1.00 |  2.7217220 |  5.4077883 | 0.0005390128 |\n",
       "\n"
      ],
      "text/plain": [
       "                  vars n      mean      sd        median trimmed   mad     \n",
       "HeartDisease*      1   301717  1.090353 0.2866871  1.00   1.000000 0.000000\n",
       "BMI                2   301717 28.441970 6.4681343 27.41  27.822767 5.574576\n",
       "Smoking*           3   301717  1.422267 0.4939214  1.00   1.402834 0.000000\n",
       "AlcoholDrinking*   4   301717  1.071527 0.2577040  1.00   1.000000 0.000000\n",
       "Stroke*            5   301717  1.039984 0.1959231  1.00   1.000000 0.000000\n",
       "PhysicalHealth     6   301717  3.572298 8.1406565  0.00   1.192249 0.000000\n",
       "MentalHealth       7   301717  4.121475 8.1282881  0.00   1.929218 0.000000\n",
       "DiffWalking*       8   301717  1.147009 0.3541151  1.00   1.058763 0.000000\n",
       "Sex*               9   301717  1.470792 0.4991470  1.00   1.463490 0.000000\n",
       "AgeCategory*      10   301717  7.509408 3.5845103  8.00   7.622861 4.447800\n",
       "Race*             11   301717  5.365409 1.2358168  6.00   5.657889 0.000000\n",
       "Diabetic*         12   301717  1.316926 0.7323717  1.00   1.135573 0.000000\n",
       "PhysicalActivity* 13   301717  1.763669 0.4248283  2.00   1.829585 0.000000\n",
       "GenHealth*        14   301717  3.221217 1.5115019  3.00   3.276520 2.965200\n",
       "SleepTime         15   301717  7.084559 1.4671219  7.00   7.093788 1.482600\n",
       "Asthma*           16   301717  1.141361 0.3483941  1.00   1.051704 0.000000\n",
       "KidneyDisease*    17   301717  1.039030 0.1936666  1.00   1.000000 0.000000\n",
       "SkinCancer*       18   301717  1.097084 0.2960731  1.00   1.000000 0.000000\n",
       "                  min   max   range skew       kurtosis   se          \n",
       "HeartDisease*      1.00  2.00  1.00  2.8577897  6.1669824 0.0005219252\n",
       "BMI               12.02 94.85 82.83  1.2977241  3.6905488 0.0117754941\n",
       "Smoking*           1.00  2.00  1.00  0.3147593 -1.9009329 0.0008992034\n",
       "AlcoholDrinking*   1.00  2.00  1.00  3.3252977  9.0576351 0.0004691603\n",
       "Stroke*            1.00  2.00  1.00  4.6958630 20.0511953 0.0003566857\n",
       "PhysicalHealth     0.00 30.00 30.00  2.5009749  4.9710890 0.0148203868\n",
       "MentalHealth       0.00 30.00 30.00  2.2374477  3.9384071 0.0147978697\n",
       "DiffWalking*       1.00  2.00  1.00  1.9936468  1.9746340 0.0006446805\n",
       "Sex*               1.00  2.00  1.00  0.1170306 -1.9863104 0.0009087168\n",
       "AgeCategory*       1.00 13.00 12.00 -0.2546913 -1.0409804 0.0065257426\n",
       "Race*              1.00  6.00  5.00 -1.8435356  2.3375551 0.0022498533\n",
       "Diabetic*          1.00  4.00  3.00  1.9999047  2.3245776 0.0013333116\n",
       "PhysicalActivity*  1.00  2.00  1.00 -1.2412938 -0.4591912 0.0007734168\n",
       "GenHealth*         1.00  5.00  4.00 -0.1186585 -1.3587154 0.0027517490\n",
       "SleepTime          1.00 24.00 23.00  0.6972167  7.5719910 0.0026709535\n",
       "Asthma*            1.00  2.00  1.00  2.0588058  2.2386887 0.0006342652\n",
       "KidneyDisease*     1.00  2.00  1.00  4.7604347 20.6618068 0.0003525776\n",
       "SkinCancer*        1.00  2.00  1.00  2.7217220  5.4077883 0.0005390128"
      ]
     },
     "metadata": {},
     "output_type": "display_data"
    }
   ],
   "source": [
    "describe(data) "
   ]
  },
  {
   "cell_type": "markdown",
   "id": "69a85803",
   "metadata": {},
   "source": [
    "#### 2. Frequency Table"
   ]
  },
  {
   "cell_type": "code",
   "execution_count": 33,
   "id": "275d890e",
   "metadata": {},
   "outputs": [
    {
     "name": "stderr",
     "output_type": "stream",
     "text": [
      "\n",
      " Column (4/14):  Stroke\n",
      "\n",
      " Column (5/14):  DiffWalking\n",
      "                                                                                \n",
      "\n",
      " Column (6/14):  Sex\n",
      "\n",
      " Column (7/14):  AgeCategory\n",
      "                                                                                \n",
      "\n",
      " Column (8/14):  Race\n",
      "\n",
      " Column (9/14):  Diabetic\n",
      "\n",
      " Column (10/14):  PhysicalActivity\n",
      "                                                                                \n",
      "\n",
      " Column (11/14):  GenHealth\n",
      "                                                                                \n",
      "\n",
      " Column (12/14):  Asthma\n",
      "\n",
      " Column (13/14):  KidneyDisease\n",
      "                                                                                \n",
      "\n",
      " Column (14/14):  SkinCancer\n",
      "                                                                                \n",
      "\n"
     ]
    },
    {
     "data": {
      "text/html": [
       "<table class=\"dataframe\">\n",
       "<caption>A tibble: 14 × 5</caption>\n",
       "<thead>\n",
       "\t<tr><th scope=col>col_name</th><th scope=col>cnt</th><th scope=col>common</th><th scope=col>common_pcnt</th><th scope=col>levels</th></tr>\n",
       "\t<tr><th scope=col>&lt;chr&gt;</th><th scope=col>&lt;int&gt;</th><th scope=col>&lt;chr&gt;</th><th scope=col>&lt;dbl&gt;</th><th scope=col>&lt;named list&gt;</th></tr>\n",
       "</thead>\n",
       "<tbody>\n",
       "\t<tr><td>AgeCategory     </td><td>13</td><td>65-69    </td><td>10.49659</td><td>65-69             , 60-64             , 70-74             , 55-59             , 50-54             , 80 or older       , 75-79             , 45-49             , 18-24             , 40-44             , 35-39             , 30-34             , 25-29             , 0.104965911764998 , 0.103471133545674 , 0.0970213809629554, 0.0915095934269531, 0.0786697468157247, 0.0773970309926189, 0.0686504240728895, 0.0680041230689686, 0.0662806537251796, 0.0657470411014295, 0.0647162738592787, 0.0595027790943169, 0.0540639075690133, 31670             , 31219             , 29273             , 27610             , 23736             , 23352             , 20713             , 20518             , 19998             , 19837             , 19526             , 17953             , 16312             </td></tr>\n",
       "\t<tr><td>AlcoholDrinking </td><td> 2</td><td>No       </td><td>92.84727</td><td>No                , Yes               , 0.928472707868632 , 0.0715272921313681, 280136            , 21581             </td></tr>\n",
       "\t<tr><td>Asthma          </td><td> 2</td><td>No       </td><td>85.86391</td><td>No               , Yes              , 0.858639055803949, 0.141360944196051, 259066           , 42651            </td></tr>\n",
       "\t<tr><td>Diabetic        </td><td> 4</td><td>No       </td><td>83.45436</td><td>No                     , Yes                    , No, borderline diabetes, Yes (during pregnancy) , 0.834543628632129      , 0.134526725375103      , 0.0224581312952204     , 0.0084715146975477     , 251796                 , 40589                  , 6776                   , 2556                   </td></tr>\n",
       "\t<tr><td>DiffWalking     </td><td> 2</td><td>No       </td><td>85.29914</td><td>No               , Yes              , 0.852991379338917, 0.147008620661083, 257362           , 44355            </td></tr>\n",
       "\t<tr><td>GenHealth       </td><td> 5</td><td>Very good</td><td>34.73321</td><td>Very good         , Good              , Excellent         , Fair              , Poor              , 0.347332102599456 , 0.302399268188402 , 0.197990169596012 , 0.114872546127663 , 0.0374059134884677, 104796            , 91239             , 59737             , 34659             , 11286             </td></tr>\n",
       "\t<tr><td>HeartDisease    </td><td> 2</td><td>No       </td><td>90.96471</td><td>No                , Yes               , 0.909647119651859 , 0.0903528803481408, 274456            , 27261             </td></tr>\n",
       "\t<tr><td>KidneyDisease   </td><td> 2</td><td>No       </td><td>96.09700</td><td>No                , Yes               , 0.960970048091423 , 0.0390299519085766, 289941            , 11776             </td></tr>\n",
       "\t<tr><td>PhysicalActivity</td><td> 2</td><td>Yes      </td><td>76.36693</td><td>Yes              , No               , 0.763669266232927, 0.236330733767073, 230412           , 71305            </td></tr>\n",
       "\t<tr><td>Race            </td><td> 6</td><td>White    </td><td>75.47603</td><td>White                         , Hispanic                      , Black                         , Other                         , Asian                         , American Indian/Alaskan Native, 0.754760255471187             , 0.0898424682732494            , 0.0756006456381311            , 0.0360967396600125            , 0.0264917124325113            , 0.0172081785249091            , 227724                        , 27107                         , 22810                         , 10891                         , 7993                          , 5192                          </td></tr>\n",
       "\t<tr><td>Sex             </td><td> 2</td><td>Female   </td><td>52.92078</td><td>Female          , Male            , 0.52920783383104, 0.47079216616896, 159671          , 142046          </td></tr>\n",
       "\t<tr><td>SkinCancer      </td><td> 2</td><td>No       </td><td>90.29156</td><td>No                , Yes               , 0.902915646118714 , 0.0970843538812861, 272425            , 29292             </td></tr>\n",
       "\t<tr><td>Smoking         </td><td> 2</td><td>No       </td><td>57.77334</td><td>No              , Yes             , 0.57773343895107, 0.42226656104893, 174312          , 127405          </td></tr>\n",
       "\t<tr><td>Stroke          </td><td> 2</td><td>No       </td><td>96.00155</td><td>No                , Yes               , 0.960015511224094 , 0.0399844887759059, 289653            , 12064             </td></tr>\n",
       "</tbody>\n",
       "</table>\n"
      ],
      "text/latex": [
       "A tibble: 14 × 5\n",
       "\\begin{tabular}{lllll}\n",
       " col\\_name & cnt & common & common\\_pcnt & levels\\\\\n",
       " <chr> & <int> & <chr> & <dbl> & <named list>\\\\\n",
       "\\hline\n",
       "\t AgeCategory      & 13 & 65-69     & 10.49659 & 65-69             , 60-64             , 70-74             , 55-59             , 50-54             , 80 or older       , 75-79             , 45-49             , 18-24             , 40-44             , 35-39             , 30-34             , 25-29             , 0.104965911764998 , 0.103471133545674 , 0.0970213809629554, 0.0915095934269531, 0.0786697468157247, 0.0773970309926189, 0.0686504240728895, 0.0680041230689686, 0.0662806537251796, 0.0657470411014295, 0.0647162738592787, 0.0595027790943169, 0.0540639075690133, 31670             , 31219             , 29273             , 27610             , 23736             , 23352             , 20713             , 20518             , 19998             , 19837             , 19526             , 17953             , 16312             \\\\\n",
       "\t AlcoholDrinking  &  2 & No        & 92.84727 & No                , Yes               , 0.928472707868632 , 0.0715272921313681, 280136            , 21581             \\\\\n",
       "\t Asthma           &  2 & No        & 85.86391 & No               , Yes              , 0.858639055803949, 0.141360944196051, 259066           , 42651            \\\\\n",
       "\t Diabetic         &  4 & No        & 83.45436 & No                     , Yes                    , No, borderline diabetes, Yes (during pregnancy) , 0.834543628632129      , 0.134526725375103      , 0.0224581312952204     , 0.0084715146975477     , 251796                 , 40589                  , 6776                   , 2556                   \\\\\n",
       "\t DiffWalking      &  2 & No        & 85.29914 & No               , Yes              , 0.852991379338917, 0.147008620661083, 257362           , 44355            \\\\\n",
       "\t GenHealth        &  5 & Very good & 34.73321 & Very good         , Good              , Excellent         , Fair              , Poor              , 0.347332102599456 , 0.302399268188402 , 0.197990169596012 , 0.114872546127663 , 0.0374059134884677, 104796            , 91239             , 59737             , 34659             , 11286             \\\\\n",
       "\t HeartDisease     &  2 & No        & 90.96471 & No                , Yes               , 0.909647119651859 , 0.0903528803481408, 274456            , 27261             \\\\\n",
       "\t KidneyDisease    &  2 & No        & 96.09700 & No                , Yes               , 0.960970048091423 , 0.0390299519085766, 289941            , 11776             \\\\\n",
       "\t PhysicalActivity &  2 & Yes       & 76.36693 & Yes              , No               , 0.763669266232927, 0.236330733767073, 230412           , 71305            \\\\\n",
       "\t Race             &  6 & White     & 75.47603 & White                         , Hispanic                      , Black                         , Other                         , Asian                         , American Indian/Alaskan Native, 0.754760255471187             , 0.0898424682732494            , 0.0756006456381311            , 0.0360967396600125            , 0.0264917124325113            , 0.0172081785249091            , 227724                        , 27107                         , 22810                         , 10891                         , 7993                          , 5192                          \\\\\n",
       "\t Sex              &  2 & Female    & 52.92078 & Female          , Male            , 0.52920783383104, 0.47079216616896, 159671          , 142046          \\\\\n",
       "\t SkinCancer       &  2 & No        & 90.29156 & No                , Yes               , 0.902915646118714 , 0.0970843538812861, 272425            , 29292             \\\\\n",
       "\t Smoking          &  2 & No        & 57.77334 & No              , Yes             , 0.57773343895107, 0.42226656104893, 174312          , 127405          \\\\\n",
       "\t Stroke           &  2 & No        & 96.00155 & No                , Yes               , 0.960015511224094 , 0.0399844887759059, 289653            , 12064             \\\\\n",
       "\\end{tabular}\n"
      ],
      "text/markdown": [
       "\n",
       "A tibble: 14 × 5\n",
       "\n",
       "| col_name &lt;chr&gt; | cnt &lt;int&gt; | common &lt;chr&gt; | common_pcnt &lt;dbl&gt; | levels &lt;named list&gt; |\n",
       "|---|---|---|---|---|\n",
       "| AgeCategory      | 13 | 65-69     | 10.49659 | 65-69             , 60-64             , 70-74             , 55-59             , 50-54             , 80 or older       , 75-79             , 45-49             , 18-24             , 40-44             , 35-39             , 30-34             , 25-29             , 0.104965911764998 , 0.103471133545674 , 0.0970213809629554, 0.0915095934269531, 0.0786697468157247, 0.0773970309926189, 0.0686504240728895, 0.0680041230689686, 0.0662806537251796, 0.0657470411014295, 0.0647162738592787, 0.0595027790943169, 0.0540639075690133, 31670             , 31219             , 29273             , 27610             , 23736             , 23352             , 20713             , 20518             , 19998             , 19837             , 19526             , 17953             , 16312              |\n",
       "| AlcoholDrinking  |  2 | No        | 92.84727 | No                , Yes               , 0.928472707868632 , 0.0715272921313681, 280136            , 21581              |\n",
       "| Asthma           |  2 | No        | 85.86391 | No               , Yes              , 0.858639055803949, 0.141360944196051, 259066           , 42651             |\n",
       "| Diabetic         |  4 | No        | 83.45436 | No                     , Yes                    , No, borderline diabetes, Yes (during pregnancy) , 0.834543628632129      , 0.134526725375103      , 0.0224581312952204     , 0.0084715146975477     , 251796                 , 40589                  , 6776                   , 2556                    |\n",
       "| DiffWalking      |  2 | No        | 85.29914 | No               , Yes              , 0.852991379338917, 0.147008620661083, 257362           , 44355             |\n",
       "| GenHealth        |  5 | Very good | 34.73321 | Very good         , Good              , Excellent         , Fair              , Poor              , 0.347332102599456 , 0.302399268188402 , 0.197990169596012 , 0.114872546127663 , 0.0374059134884677, 104796            , 91239             , 59737             , 34659             , 11286              |\n",
       "| HeartDisease     |  2 | No        | 90.96471 | No                , Yes               , 0.909647119651859 , 0.0903528803481408, 274456            , 27261              |\n",
       "| KidneyDisease    |  2 | No        | 96.09700 | No                , Yes               , 0.960970048091423 , 0.0390299519085766, 289941            , 11776              |\n",
       "| PhysicalActivity |  2 | Yes       | 76.36693 | Yes              , No               , 0.763669266232927, 0.236330733767073, 230412           , 71305             |\n",
       "| Race             |  6 | White     | 75.47603 | White                         , Hispanic                      , Black                         , Other                         , Asian                         , American Indian/Alaskan Native, 0.754760255471187             , 0.0898424682732494            , 0.0756006456381311            , 0.0360967396600125            , 0.0264917124325113            , 0.0172081785249091            , 227724                        , 27107                         , 22810                         , 10891                         , 7993                          , 5192                           |\n",
       "| Sex              |  2 | Female    | 52.92078 | Female          , Male            , 0.52920783383104, 0.47079216616896, 159671          , 142046           |\n",
       "| SkinCancer       |  2 | No        | 90.29156 | No                , Yes               , 0.902915646118714 , 0.0970843538812861, 272425            , 29292              |\n",
       "| Smoking          |  2 | No        | 57.77334 | No              , Yes             , 0.57773343895107, 0.42226656104893, 174312          , 127405           |\n",
       "| Stroke           |  2 | No        | 96.00155 | No                , Yes               , 0.960015511224094 , 0.0399844887759059, 289653            , 12064              |\n",
       "\n"
      ],
      "text/plain": [
       "   col_name         cnt common    common_pcnt\n",
       "1  AgeCategory      13  65-69     10.49659   \n",
       "2  AlcoholDrinking   2  No        92.84727   \n",
       "3  Asthma            2  No        85.86391   \n",
       "4  Diabetic          4  No        83.45436   \n",
       "5  DiffWalking       2  No        85.29914   \n",
       "6  GenHealth         5  Very good 34.73321   \n",
       "7  HeartDisease      2  No        90.96471   \n",
       "8  KidneyDisease     2  No        96.09700   \n",
       "9  PhysicalActivity  2  Yes       76.36693   \n",
       "10 Race              6  White     75.47603   \n",
       "11 Sex               2  Female    52.92078   \n",
       "12 SkinCancer        2  No        90.29156   \n",
       "13 Smoking           2  No        57.77334   \n",
       "14 Stroke            2  No        96.00155   \n",
       "   levels                                                                                                                                                                                                                                                                                                                                                                                                                                                                                                                                                                                                                                                                                                                                                                                                    \n",
       "1  65-69             , 60-64             , 70-74             , 55-59             , 50-54             , 80 or older       , 75-79             , 45-49             , 18-24             , 40-44             , 35-39             , 30-34             , 25-29             , 0.104965911764998 , 0.103471133545674 , 0.0970213809629554, 0.0915095934269531, 0.0786697468157247, 0.0773970309926189, 0.0686504240728895, 0.0680041230689686, 0.0662806537251796, 0.0657470411014295, 0.0647162738592787, 0.0595027790943169, 0.0540639075690133, 31670             , 31219             , 29273             , 27610             , 23736             , 23352             , 20713             , 20518             , 19998             , 19837             , 19526             , 17953             , 16312             \n",
       "2  No                , Yes               , 0.928472707868632 , 0.0715272921313681, 280136            , 21581                                                                                                                                                                                                                                                                                                                                                                                                                                                                                                                                                                                                                                                                                                 \n",
       "3  No               , Yes              , 0.858639055803949, 0.141360944196051, 259066           , 42651                                                                                                                                                                                                                                                                                                                                                                                                                                                                                                                                                                                                                                                                                                      \n",
       "4  No                     , Yes                    , No, borderline diabetes, Yes (during pregnancy) , 0.834543628632129      , 0.134526725375103      , 0.0224581312952204     , 0.0084715146975477     , 251796                 , 40589                  , 6776                   , 2556                                                                                                                                                                                                                                                                                                                                                                                                                                                                                                                   \n",
       "5  No               , Yes              , 0.852991379338917, 0.147008620661083, 257362           , 44355                                                                                                                                                                                                                                                                                                                                                                                                                                                                                                                                                                                                                                                                                                      \n",
       "6  Very good         , Good              , Excellent         , Fair              , Poor              , 0.347332102599456 , 0.302399268188402 , 0.197990169596012 , 0.114872546127663 , 0.0374059134884677, 104796            , 91239             , 59737             , 34659             , 11286                                                                                                                                                                                                                                                                                                                                                                                                                                                                                                             \n",
       "7  No                , Yes               , 0.909647119651859 , 0.0903528803481408, 274456            , 27261                                                                                                                                                                                                                                                                                                                                                                                                                                                                                                                                                                                                                                                                                                 \n",
       "8  No                , Yes               , 0.960970048091423 , 0.0390299519085766, 289941            , 11776                                                                                                                                                                                                                                                                                                                                                                                                                                                                                                                                                                                                                                                                                                 \n",
       "9  Yes              , No               , 0.763669266232927, 0.236330733767073, 230412           , 71305                                                                                                                                                                                                                                                                                                                                                                                                                                                                                                                                                                                                                                                                                                      \n",
       "10 White                         , Hispanic                      , Black                         , Other                         , Asian                         , American Indian/Alaskan Native, 0.754760255471187             , 0.0898424682732494            , 0.0756006456381311            , 0.0360967396600125            , 0.0264917124325113            , 0.0172081785249091            , 227724                        , 27107                         , 22810                         , 10891                         , 7993                          , 5192                                                                                                                                                                                                                                      \n",
       "11 Female          , Male            , 0.52920783383104, 0.47079216616896, 159671          , 142046                                                                                                                                                                                                                                                                                                                                                                                                                                                                                                                                                                                                                                                                                                          \n",
       "12 No                , Yes               , 0.902915646118714 , 0.0970843538812861, 272425            , 29292                                                                                                                                                                                                                                                                                                                                                                                                                                                                                                                                                                                                                                                                                                 \n",
       "13 No              , Yes             , 0.57773343895107, 0.42226656104893, 174312          , 127405                                                                                                                                                                                                                                                                                                                                                                                                                                                                                                                                                                                                                                                                                                          \n",
       "14 No                , Yes               , 0.960015511224094 , 0.0399844887759059, 289653            , 12064                                                                                                                                                                                                                                                                                                                                                                                                                                                                                                                                                                                                                                                                                                 "
      ]
     },
     "metadata": {},
     "output_type": "display_data"
    }
   ],
   "source": [
    "df <- data %>% inspect_cat()  # frequency of categorical data\n",
    "df "
   ]
  },
  {
   "cell_type": "markdown",
   "id": "a3fd5b21",
   "metadata": {},
   "source": [
    "#### 3. Plot"
   ]
  },
  {
   "cell_type": "code",
   "execution_count": 34,
   "id": "714ff007",
   "metadata": {},
   "outputs": [
    {
     "data": {
      "image/png": "[encoded data removed]",
      "text/plain": [
       "plot without title"
      ]
     },
     "metadata": {
      "image/png": {
       "height": 420,
       "width": 420
      }
     },
     "output_type": "display_data"
    }
   ],
   "source": [
    "# install.packages(\"inspectdf\")\n",
    "# library(inspectdf)\n",
    "# library(dplyr)\n",
    "df %>% show_plot()"
   ]
  },
  {
   "cell_type": "markdown",
   "id": "f52d4edb",
   "metadata": {},
   "source": [
    "### Bivariate visualization —\n",
    "is performed to find the relationship between each variable in the dataset and the target variable of interest\n",
    "\n",
    "target variable of interest: Heart Disease"
   ]
  },
  {
   "cell_type": "markdown",
   "id": "d0e963f4",
   "metadata": {},
   "source": [
    "### Multivariate visualization — \n",
    "is performed to understand interactions between different fields in the dataset"
   ]
  },
  {
   "cell_type": "code",
   "execution_count": null,
   "id": "2b2fc178",
   "metadata": {},
   "outputs": [],
   "source": []
  }
 ],
 "metadata": {
  "kernelspec": {
   "display_name": "R",
   "language": "R",
   "name": "ir"
  },
  "language_info": {
   "codemirror_mode": "r",
   "file_extension": ".r",
   "mimetype": "text/x-r-source",
   "name": "R",
   "pygments_lexer": "r",
   "version": "4.1.3"
  }
 },
 "nbformat": 4,
 "nbformat_minor": 5
}
